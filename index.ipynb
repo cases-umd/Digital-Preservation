{
 "cells": [
  {
   "cell_type": "markdown",
   "metadata": {},
   "source": [
    "# Topics in Digital Preservation\n",
    "### Demonstrating digital preservation concepts through Jupyter notebooks\n",
    "* Author: Gregory N. Jansen (©2022)\n",
    "* Source Available: https://github.com/cases-umd/digital-preservation\n",
    "* License: [Creative Commons - Attribute 4.0 Intl](https://creativecommons.org/licenses/by/4.0/)\n",
    "* [Lesson Plan for Instructors (coming soon..)](./lesson-plan.ipynb)\n",
    "\n",
    "## Introduction\n",
    "Digital preservation is the practice of maintaining the intelligability of digital assets and the associated metadata and provenance for a designated period of time or in perpetuity. The techniques of digital preservation must continue to adapt to new technologies as they emerge and others becoming obsolete. Preservation planning is required as we encounter each new accession and it's particular file formats, bundling/archiving formats, and other challenges. Also preservation planning is required periodically across all collections in order to maintain access in the face of changing consumer technology. These notebooks are intended to familiarize archivists with the technical concerns of digital preservation through hands-on exercises. We will be exploring the inventory, summarization, and visualization of accessions; file format identification; file digest and fixity; digital provenance.\n",
    "\n",
    "### Further Information\n",
    "For more information about the overall practice of digital preservation our recommended resource is the [Digital Preservation Handbook](https://www.dpconline.org/handbook/) from the Digital Preservation Coalition.\n",
    "\n",
    "## Objectives\n",
    "The goal of this CASES module is to show hands-on techniques for digital preservation activites, in particular those that can be demostrated outside of any particular digital preservation environment, such as Preservica or Archivematica. These notebooks will help students become familiar with the nuts and bolts of preservation activities and offer techniques that may be transferable to other technical environments. This CASES module is not comprehensive and will not cover all aspects of digital preservation.\n",
    "\n",
    "## Learning Goals\n",
    "* Computational Practices:\n",
    "  * [Collecting Data](#collecting_data)\n",
    "  * [Modeling Data](#modeling_Data)\n",
    "* Archival Practices:"
   ]
  },
  {
   "cell_type": "markdown",
   "metadata": {},
   "source": [
    "# Notebooks\n",
    "\n",
    "1. [Inventory and Analysis of a Digital Accession](notebook-1.ipynb)\n",
    "1. [File Format Identification and Validation](notebook-2.ipynb)\n",
    "1. Preservation Action: Fixity and Provenance\n",
    "1. Preservation Action: Format Migration\n",
    "1. Preservation Action: Legacy Viewers and Software Emulation\n",
    "1. Durable Storage and Links\n",
    "1. Disaster Planning, Recovery, Migration\n",
    "\n",
    "Next: [Survey, Prioritization, and Preservation Planning](notebook-1.ipynb)"
   ]
  },
  {
   "cell_type": "code",
   "execution_count": null,
   "metadata": {},
   "outputs": [],
   "source": []
  }
 ],
 "metadata": {
  "cases_info": {
   "computational_practices": [
    "cas:dp_collecting_data",
    "cas:dp_creating_data"
   ]
  },
  "kernelspec": {
   "display_name": "Python 3",
   "language": "python",
   "name": "python3"
  },
  "language_info": {
   "codemirror_mode": {
    "name": "ipython",
    "version": 3
   },
   "file_extension": ".py",
   "mimetype": "text/x-python",
   "name": "python",
   "nbconvert_exporter": "python",
   "pygments_lexer": "ipython3",
   "version": "3.8.6"
  }
 },
 "nbformat": 4,
 "nbformat_minor": 4
}
